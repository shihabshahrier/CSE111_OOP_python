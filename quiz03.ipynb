{
 "cells": [
  {
   "cell_type": "markdown",
   "id": "d48db5c2",
   "metadata": {},
   "source": [
    "# 𝐂𝐒𝐄𝟏𝟏𝟏: 𝐏𝐫𝐨𝐠𝐫𝐚𝐦𝐦𝐢𝐧𝐠 𝐋𝐚𝐧𝐠𝐮𝐚𝐠𝐞 𝐈𝐈\n",
    "\n",
    "# Quiz: 3"
   ]
  },
  {
   "cell_type": "code",
   "execution_count": null,
   "id": "faf3fc13",
   "metadata": {},
   "outputs": [],
   "source": []
  },
  {
   "cell_type": "markdown",
   "id": "b8c26664",
   "metadata": {},
   "source": [
    "Name: Shihab Shahriear Antor\n",
    "    \n",
    "ID: 20301113\n",
    "    \n",
    "Sec: 05\n",
    "    \n",
    "G-suit: shihab.shahriear.antor@g.bracu.ac.bd"
   ]
  },
  {
   "cell_type": "code",
   "execution_count": null,
   "id": "87fd7208",
   "metadata": {},
   "outputs": [],
   "source": []
  },
  {
   "cell_type": "code",
   "execution_count": 1,
   "id": "9c9a7727",
   "metadata": {},
   "outputs": [
    {
     "name": "stdout",
     "output_type": "stream",
     "text": [
      "No.of Car= 0\n",
      "=========================\n",
      "Name: Lamborghini\n",
      "Year of manufacture: 2002\n",
      "List of Services: Battery Replacement , A/C Recharge\n",
      "=========================\n",
      "Name: Toyota Corolla\n",
      "Year of manufacture: 2016\n",
      "List of Services: Radiator Flush , Fill Service\n",
      "=========================\n",
      "Name: Mitsubishi Pajero\n",
      "Year of manufacture: 2018\n",
      "List of Services: Filter change , Timing Belt Replacement\n",
      "=========================\n",
      "No.of Car = 3\n"
     ]
    }
   ],
   "source": [
    "#problem 01\n",
    "\n",
    "class Car:\n",
    "    count = 0\n",
    "    def __init__(self, name, year):\n",
    "        self.name = name\n",
    "        self.year = year\n",
    "        Car.count = Car.count + 1\n",
    "    def add_Services(self, x, y):\n",
    "        self.x = x\n",
    "        self.y = y\n",
    "        \n",
    "    def printCarDetail(self):\n",
    "        print(\"Name:\", self.name)\n",
    "        print(\"Year of manufacture:\", self.year)\n",
    "        print(\"List of Services:\", self.x, ',', self.y)\n",
    "\n",
    "\n",
    "# Write your code here\n",
    "print(\"No.of Car=\", Car.count)\n",
    "c1 = Car('Lamborghini', 2002)\n",
    "c1.add_Services('Battery Replacement', 'A/C Recharge')\n",
    "c2 = Car('Toyota Corolla', 2016)\n",
    "c2.add_Services('Radiator Flush', 'Fill Service')\n",
    "c3 = Car('Mitsubishi Pajero', 2018)\n",
    "c3.add_Services('Filter change', 'Timing Belt Replacement')\n",
    "print(\"=========================\")\n",
    "c1.printCarDetail()\n",
    "print(\"=========================\")\n",
    "c2.printCarDetail()\n",
    "print(\"=========================\")\n",
    "c3.printCarDetail()\n",
    "print(\"=========================\")\n",
    "print(\"No.of Car =\", Car.count)\n"
   ]
  },
  {
   "cell_type": "code",
   "execution_count": null,
   "id": "3a8e361d",
   "metadata": {},
   "outputs": [],
   "source": []
  }
 ],
 "metadata": {
  "kernelspec": {
   "display_name": "Python 3",
   "language": "python",
   "name": "python3"
  },
  "language_info": {
   "codemirror_mode": {
    "name": "ipython",
    "version": 3
   },
   "file_extension": ".py",
   "mimetype": "text/x-python",
   "name": "python",
   "nbconvert_exporter": "python",
   "pygments_lexer": "ipython3",
   "version": "3.8.8"
  }
 },
 "nbformat": 4,
 "nbformat_minor": 5
}
