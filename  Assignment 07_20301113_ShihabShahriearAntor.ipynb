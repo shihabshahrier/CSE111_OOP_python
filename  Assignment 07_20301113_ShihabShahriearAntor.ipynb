{
 "cells": [
  {
   "cell_type": "markdown",
   "metadata": {},
   "source": [
    "# Course Title: Programming Language II\n",
    "\n",
    "# Course Code: CSE 111\n",
    "\n",
    "# Lab Assignment no: 7"
   ]
  },
  {
   "cell_type": "code",
   "execution_count": null,
   "metadata": {},
   "outputs": [],
   "source": []
  },
  {
   "cell_type": "markdown",
   "metadata": {},
   "source": [
    "Name: Shihab Shahriear Antor\n",
    "    \n",
    "ID: 20301113\n",
    "    \n",
    "Sec: 05\n",
    "    \n",
    "G-suit: shihab.shahriear.antor@g.bracu.ac.bd"
   ]
  },
  {
   "cell_type": "code",
   "execution_count": null,
   "metadata": {},
   "outputs": [],
   "source": []
  },
  {
   "cell_type": "code",
   "execution_count": 10,
   "metadata": {},
   "outputs": [
    {
     "name": "stdout",
     "output_type": "stream",
     "text": [
      "Name: Default Department: BBA\n",
      "Name: Humpty Dumpty Department: BBA\n",
      "Name: Little Bo Peep Department: BBA\n"
     ]
    }
   ],
   "source": [
    "#problem 01\n",
    "\n",
    "class Student:\n",
    "    def __init__(self, name='Just a student', dept='nothing'):\n",
    "        self.__name = name\n",
    "        self.__department = dept\n",
    "    def set_department(self, dept):\n",
    "        self.__department = dept\n",
    "    def get_name(self):\n",
    "        return self.__name\n",
    "    def set_name(self,name):\n",
    "        self.__name = name\n",
    "    def __str__(self):\n",
    "        return 'Name: '+self.__name+' Department: '+self.__department\n",
    "\n",
    "class BBA_Student(Student):\n",
    "    def __init__(self, name = \"Default\", dept=\"BBA\"):\n",
    "        #super().__init__()\n",
    "        self.set_name(name)\n",
    "        self.set_department(dept)\n",
    "        \n",
    "\n",
    "    # def __init__(self, name = \"Default\", dept=\"BBA\"):\n",
    "    #     Student.__init__(self, name, dept)\n",
    "\n",
    "    \n",
    "   \n",
    "#write your code here\n",
    "print(BBA_Student())\n",
    "print(BBA_Student('Humpty Dumpty'))\n",
    "print(BBA_Student('Little Bo Peep'))"
   ]
  },
  {
   "cell_type": "code",
   "execution_count": null,
   "metadata": {},
   "outputs": [],
   "source": []
  },
  {
   "cell_type": "code",
   "execution_count": 11,
   "metadata": {},
   "outputs": [
    {
     "name": "stdout",
     "output_type": "stream",
     "text": [
      "Part 1\n",
      "------\n",
      "(0 , 0)\n",
      "(0 , 1)\n",
      "(-1 , 1)\n",
      "(-1 , 0)\n",
      "(0 , 0)\n",
      "------\n",
      "Part 2\n",
      "------\n",
      "(0 , 0)\n",
      "(-1 , -1)\n",
      "False\n",
      "True\n"
     ]
    }
   ],
   "source": [
    "#problem 02\n",
    "\n",
    "class Vehicle:\n",
    "    def __init__(self):\n",
    "        self.x = 0\n",
    "        self.y = 0\n",
    "    def moveUp(self):\n",
    "        self.y+=1\n",
    "    def moveDown(self):\n",
    "        self.y-=1\n",
    "    def moveRight(self):\n",
    "        self.x+=1\n",
    "    def moveLeft(self):\n",
    "        self.x-=1\n",
    "    def __str__(self):\n",
    "        return '('+str(self.x)+' , '+str(self.y)+')'\n",
    "    \n",
    "class Vehicle2010(Vehicle):  \n",
    "    def __init__(self):\n",
    "        super().__init__()\n",
    "    def moveLowerLeft(self):\n",
    "        self.x = self.x - 1\n",
    "        self.y = self.y - 1\n",
    "    def equals(self, other):\n",
    "        if self.x == other.x and self.y == other.y:\n",
    "            return True\n",
    "        else:\n",
    "            return False\n",
    "    \n",
    "    \n",
    "#write your code here\n",
    "print('Part 1')\n",
    "print('------')\n",
    "car = Vehicle()\n",
    "print(car)\n",
    "car.moveUp()\n",
    "print(car)\n",
    "car.moveLeft()\n",
    "print(car)\n",
    "car.moveDown()\n",
    "print(car)\n",
    "car.moveRight()\n",
    "print(car)\n",
    "print('------')\n",
    "print('Part 2')\n",
    "print('------')\n",
    "car1 = Vehicle2010()\n",
    "print(car1)\n",
    "car1.moveLowerLeft()\n",
    "print(car1)\n",
    "car2 = Vehicle2010()\n",
    "car2.moveLeft()\n",
    "print(car1.equals(car2))\n",
    "car2.moveDown()\n",
    "print(car1.equals(car2))\n"
   ]
  },
  {
   "cell_type": "code",
   "execution_count": null,
   "metadata": {},
   "outputs": [],
   "source": []
  },
  {
   "cell_type": "code",
   "execution_count": 12,
   "metadata": {},
   "outputs": [
    {
     "name": "stdout",
     "output_type": "stream",
     "text": [
      "Cricket Tournament Name: Default \n",
      "Number of Teams: 0 \n",
      "Type: No Type\n",
      "-----------------------\n",
      "Cricket Tournament Name: IPL \n",
      "Number of Teams: 10 \n",
      "Type: t20\n",
      "-----------------------\n",
      "Tennis Tournament Name: Roland Garros\n",
      "Number of Players: 128\n"
     ]
    }
   ],
   "source": [
    "#problem 03\n",
    "\n",
    "class Tournament:\n",
    "    def __init__(self,name='Default'):\n",
    "        self.__name = name\n",
    "    def set_name(self,name):\n",
    "        self.__name = name\n",
    "    def get_name(self):\n",
    "        return self.__name\n",
    "\n",
    "class Cricket_Tournament(Tournament):\n",
    "    \n",
    "    def __init__(self, name='', team= 0, tp=\"No Type\"): \n",
    "        if name=='':                                      \n",
    "            super().__init__()                                  \n",
    "        else:\n",
    "            self.set_name(name)             \n",
    "        self.__teams = team         \n",
    "        self.__types = tp       \n",
    "    \n",
    "    def detail(self):       \n",
    "        return f\"Cricket Tournament Name: {self.get_name()} \\nNumber of Teams: {self.__teams} \\nType: {self.__types}\"  \n",
    "\n",
    "class Tennis_Tournament(Tournament):\n",
    "    def __init__(self, name, player): \n",
    "        self.set_name(name)      \n",
    "        self.__player = player  \n",
    "\n",
    "    def detail(self): \n",
    "        return f\"Tennis Tournament Name: {self.get_name()}\\nNumber of Players: {self.__player}\" \n",
    "    \n",
    "\n",
    "#write your code here\n",
    "ct1 = Cricket_Tournament()\n",
    "print(ct1.detail())\n",
    "print(\"-----------------------\")\n",
    "ct2 = Cricket_Tournament(\"IPL\",10,\"t20\")\n",
    "print(ct2.detail())\n",
    "print(\"-----------------------\")\n",
    "tt = Tennis_Tournament(\"Roland Garros\",128)\n",
    "print(tt.detail())"
   ]
  },
  {
   "cell_type": "code",
   "execution_count": null,
   "metadata": {},
   "outputs": [],
   "source": []
  },
  {
   "cell_type": "code",
   "execution_count": 13,
   "metadata": {},
   "outputs": [
    {
     "name": "stdout",
     "output_type": "stream",
     "text": [
      "ID: 1  Title: The Alchemist  Price: 500 \n",
      "ISBN: 97806 Publisher: HarperCollins\n",
      "---------------------------------------------------------------------------------\n",
      "ID: 2  Title: Shotto  Price: 300 \n",
      "Band: Warfaze Duration: 50 minutes \n",
      "Genre: Hard Rock\n"
     ]
    }
   ],
   "source": [
    "#problem 04\n",
    "\n",
    "class Product:\n",
    "    def __init__(self,id, title,price):\n",
    "        self.__id = id\n",
    "        self.__price=price\n",
    "        self.__title=title\n",
    "    def get_id_title_price(self):\n",
    "        return \"ID: \"+str(self.__id)+\"  Title: \"+str(self.__title)+\"  Price: \"+str(self.__price)\n",
    "\n",
    "class Book(Product):\n",
    "    def __init__ (self,id, title, price, isbn, publisher):\n",
    "        super().__init__(id, title, price)\n",
    "        self.__isbn = isbn\n",
    "        self.__publisher = publisher\n",
    "    def printDetail(self):\n",
    "        return f\"{self.get_id_title_price()} \\nISBN: {self.__isbn} Publisher: {self.__publisher}\"\n",
    "\n",
    "class CD(Product):\n",
    "    def __init__ (self, id, title, price, band, duration, genre):\n",
    "        super().__init__(id, title, price)\n",
    "        self.__band=band\n",
    "        self.__duration=duration\n",
    "        self.__genre=genre\n",
    "    def printDetail(self):\n",
    "        return f\"{self.get_id_title_price()} \\nBand: {self.__band} Duration: {self.__duration} minutes \\nGenre: {self.__genre}\"\n",
    "\n",
    "    \n",
    "#write your code here\n",
    "book = Book(1,\"The Alchemist\",500,\"97806\",\"HarperCollins\")\n",
    "print(book.printDetail())\n",
    "print(\"---------------------------------------------------------------------------------\")\n",
    "cd = CD(2,\"Shotto\",300,\"Warfaze\",50,\"Hard Rock\")\n",
    "print(cd.printDetail())\n",
    "\n",
    "\n",
    "\n"
   ]
  },
  {
   "cell_type": "code",
   "execution_count": null,
   "metadata": {},
   "outputs": [],
   "source": []
  },
  {
   "cell_type": "code",
   "execution_count": 3,
   "metadata": {},
   "outputs": [
    {
     "name": "stdout",
     "output_type": "stream",
     "text": [
      "Animal does not make sound\n",
      "meow\n",
      "bark\n"
     ]
    }
   ],
   "source": [
    "#problem 05\n",
    "\n",
    "class Animal :\n",
    "    def __init__(self,sound):\n",
    "        self.__sound=sound\n",
    "\n",
    "    def makesound(self):\n",
    "        return self.__sound\n",
    "\n",
    "class Printer:\n",
    "    def printsound(self,a):\n",
    "        print(a.makesound())\n",
    "        \n",
    "class Dog(Animal):\n",
    "    def __init(self, sound):\n",
    "        super().__init__(sound)\n",
    "        \n",
    "class Cat(Animal):\n",
    "    def __init(self, sound):\n",
    "        super().__init__(sound)\n",
    "        \n",
    "d1=Dog(\"bark\")\n",
    "c1=Cat(\"meow\")\n",
    "a1=Animal(\"Animal does not make sound\")\n",
    "pr=Printer()\n",
    "pr.printsound(a1)\n",
    "pr.printsound(c1)\n",
    "pr.printsound(d1)\n"
   ]
  },
  {
   "cell_type": "code",
   "execution_count": null,
   "metadata": {},
   "outputs": [],
   "source": []
  },
  {
   "cell_type": "code",
   "execution_count": 2,
   "metadata": {},
   "outputs": [
    {
     "name": "stdout",
     "output_type": "stream",
     "text": [
      "Shape name: Default \n",
      "Height: 0, Base: 0 \n",
      "Area: 0.0\n",
      "------------------------------\n",
      "Shape name: Triangle \n",
      "Height: 10, Base: 5 \n",
      "Area: 25.0\n",
      "------------------------------\n",
      "Shape name: Trapezoid \n",
      "Height: 10, Base: 6, Side_A: 4 \n",
      "Area: 50.0\n"
     ]
    }
   ],
   "source": [
    "#problem 6\n",
    "\n",
    "class Shape:\n",
    "    def __init__(self, name=\"Default\", height=0, base=0):\n",
    "        self.area = 0\n",
    "        self.name = name\n",
    "        self.height = height\n",
    "        self.base = base\n",
    "        \n",
    "    def get_height_base(self):\n",
    "        return \"Height: \" + str(self.height) + \", Base: \" + str(self.base)\n",
    "\n",
    "class triangle(Shape):\n",
    "    def calcArea(self):\n",
    "        self.area = 0.5 * self.height * self.base\n",
    "    def printDetail(self):\n",
    "        return f\"Shape name: {self.name} \\n{self.get_height_base()} \\nArea: {self.area}\"\n",
    "    \n",
    "class trapezoid(Shape):\n",
    "    def __init__(self, name = \"Default\", height = 0, base = 0, a = 0):\n",
    "        super().__init__(name, height, base)\n",
    "        self._a = a\n",
    "    def calcArea(self):\n",
    "        self.area = 0.5 * (self.base + self._a) * self.height\n",
    "    def printDetail(self):\n",
    "        return f\"Shape name: {self.name} \\n{self.get_height_base()}, Side_A: {self._a} \\nArea: {self.area}\"    \n",
    "    \n",
    "    \n",
    "tri_default = triangle()\n",
    "tri_default.calcArea()\n",
    "print(tri_default.printDetail())\n",
    "print(\"------------------------------\")\n",
    "tri = triangle(\"Triangle\", 10, 5)\n",
    "tri.calcArea()\n",
    "print(tri.printDetail())\n",
    "print(\"------------------------------\")\n",
    "trap = trapezoid(\"Trapezoid\", 10, 6, 4)\n",
    "trap.calcArea()\n",
    "print(trap.printDetail())\n",
    "\n"
   ]
  },
  {
   "cell_type": "code",
   "execution_count": null,
   "metadata": {},
   "outputs": [],
   "source": []
  },
  {
   "cell_type": "code",
   "execution_count": 9,
   "metadata": {},
   "outputs": [
    {
     "name": "stdout",
     "output_type": "stream",
     "text": [
      "Name: Ronaldo, Team Name: Juventus\n",
      "Team Role Striker\n",
      "Total Goal: 25, Total Played: 32\n",
      "Goal Ratio: 0.78125\n",
      "Match Earning: 25320K\n",
      "-------------------------------------------------\n",
      "Name: Zidane, Team Name: Real Madrid\n",
      "Team Role: Manager\n",
      "Total Win: 25\n",
      "Match Earning: 25000K\n"
     ]
    }
   ],
   "source": [
    "#problem 07\n",
    "\n",
    "class Football:\n",
    "    def __init__(self, team_name, name, role):\n",
    "        self._team = team_name\n",
    "        self._name = name\n",
    "        self.role = role\n",
    "        self.earning_per_match = 0\n",
    "\n",
    "    def get_name_team(self):\n",
    "         return 'Name: '+self._name+', Team Name: '+self._team\n",
    "     \n",
    "        \n",
    "class Player(Football):\n",
    "    def __init__(self, team_name, name, role, total_goal, total_match):\n",
    "        super().__init__(team_name, name, role)\n",
    "        self._tg = total_goal\n",
    "        self._tm = total_match\n",
    "        \n",
    "    def calculate_ratio(self):\n",
    "        self._goal_ratio = self._tg / self._tm\n",
    "        \n",
    "    def print_details(self):\n",
    "        print(self.get_name_team()) \n",
    "        print(f\"Team Role {self.role}\")\n",
    "        print(f\"Total Goal: {self._tg}, Total Played: {self._tm}\")\n",
    "        print(f\"Goal Ratio: {self._goal_ratio}\")\n",
    "        self.earning_per_match = (self._tg * 1000) + (self._tm * 10)\n",
    "        print(f\"Match Earning: {self.earning_per_match}K\")\n",
    "           \n",
    "class Manager(Football):\n",
    "    def __init__(self, team_name, name, role, total_win):\n",
    "        super().__init__(team_name, name, role)\n",
    "        self._tw = total_win\n",
    "    def print_details(self):\n",
    "        print(self.get_name_team()) \n",
    "        print(f\"Team Role: {self.role}\")\n",
    "        print(f\"Total Win: {self._tw}\")\n",
    "        self.earning_per_match = self._tw * 1000\n",
    "        print(f\"Match Earning: {self.earning_per_match}K\")        \n",
    "\n",
    "player_one = Player(\"Juventus\", \"Ronaldo\", \"Striker\", 25, 32)\n",
    "player_one.calculate_ratio()\n",
    "player_one.print_details()\n",
    "print('-------------------------------------------------')\n",
    "manager_one=Manager('Real Madrid','Zidane','Manager',25)\n",
    "manager_one.print_details()"
   ]
  },
  {
   "cell_type": "code",
   "execution_count": null,
   "metadata": {},
   "outputs": [],
   "source": []
  },
  {
   "cell_type": "code",
   "execution_count": null,
   "metadata": {},
   "outputs": [],
   "source": []
  },
  {
   "cell_type": "code",
   "execution_count": null,
   "metadata": {},
   "outputs": [],
   "source": []
  }
 ],
 "metadata": {
  "kernelspec": {
   "display_name": "Python 3",
   "language": "python",
   "name": "python3"
  },
  "language_info": {
   "codemirror_mode": {
    "name": "ipython",
    "version": 3
   },
   "file_extension": ".py",
   "mimetype": "text/x-python",
   "name": "python",
   "nbconvert_exporter": "python",
   "pygments_lexer": "ipython3",
   "version": "3.7.3"
  }
 },
 "nbformat": 4,
 "nbformat_minor": 2
}
