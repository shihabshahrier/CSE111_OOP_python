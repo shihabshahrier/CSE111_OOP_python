{
 "cells": [
  {
   "cell_type": "markdown",
   "id": "45549383",
   "metadata": {},
   "source": [
    "# Course Title: Programming Language II\n",
    "\n",
    "# Course Code: CSE 111\n",
    "\n",
    "# Lab Assignment no: 8"
   ]
  },
  {
   "cell_type": "code",
   "execution_count": null,
   "id": "983fc05b",
   "metadata": {},
   "outputs": [],
   "source": []
  },
  {
   "cell_type": "markdown",
   "id": "f80b85fe",
   "metadata": {},
   "source": [
    "Name: Shihab Shahriear Antor\n",
    "    \n",
    "ID: 20301113\n",
    "    \n",
    "Sec: 05\n",
    "    \n",
    "G-suit: shihab.shahriear.antor@g.bracu.ac.bd"
   ]
  },
  {
   "cell_type": "code",
   "execution_count": null,
   "id": "abb98696",
   "metadata": {},
   "outputs": [],
   "source": []
  },
  {
   "cell_type": "code",
   "execution_count": 1,
   "id": "bbfbc20d",
   "metadata": {},
   "outputs": [
    {
     "name": "stdout",
     "output_type": "stream",
     "text": [
      "RealPart: 1 \n",
      "ImaginaryPart: 1\n",
      "---------\n",
      "RealPart: 5 \n",
      "ImaginaryPart: 7\n"
     ]
    }
   ],
   "source": [
    "#problem 01\n",
    "\n",
    "\n",
    "class RealNumber:\n",
    "    def __init__(self, r=0):\n",
    "        self.__realValue = r\n",
    "        \n",
    "    def getRealValue(self):\n",
    "        return self.__realValue\n",
    "    \n",
    "    def setRealValue(self, r):\n",
    "        self.__realValue = r\n",
    "        \n",
    "    def __str__(self):\n",
    "        return 'RealPart: '+str(self.getRealValue())\n",
    "    \n",
    "class ComplexNumber(RealNumber):\n",
    "    def __init__(self, real = 1, img = 1):\n",
    "        super().__init__()\n",
    "        self.setRealValue(real)\n",
    "        self.img = img\n",
    "    def __str__(self):\n",
    "        return f'RealPart: {str(self.getRealValue())} \\nImaginaryPart: {str(self.img)}'\n",
    "        \n",
    "    \n",
    "\n",
    "cn1 = ComplexNumber()\n",
    "print(cn1)\n",
    "print('---------')\n",
    "cn2 = ComplexNumber(5,7)\n",
    "print(cn2)"
   ]
  },
  {
   "cell_type": "code",
   "execution_count": null,
   "id": "a31260cb",
   "metadata": {},
   "outputs": [],
   "source": []
  },
  {
   "cell_type": "code",
   "execution_count": 2,
   "id": "1b0859dc",
   "metadata": {},
   "outputs": [
    {
     "name": "stdout",
     "output_type": "stream",
     "text": [
      "8\n",
      "1 + 2i\n",
      "5 + 3i\n",
      "5 + 6i\n",
      "-1 - 4i\n"
     ]
    }
   ],
   "source": [
    "#problem 02\n",
    "class RealNumber: \n",
    "    def __init__(self, number=0):\n",
    "        self.number = number \n",
    "    def __add__(self, anotherRealNumber): \n",
    "        return self.number + anotherRealNumber.number\n",
    "    def __sub__(self, anotherRealNumber):\n",
    "        return self.number - anotherRealNumber.number\n",
    "    def __str__(self):\n",
    "        return str(self.number)\n",
    "    \n",
    "class ComplexNumber:\n",
    "    def __init__(self,real,comp):\n",
    "        self.real=real\n",
    "        self.comp=comp\n",
    "    def __add__(self,anotherComp):\n",
    "        c=self.comp+anotherComp.comp\n",
    "        r=self.real+anotherComp.real\n",
    "        # comp = str(complex(r,c))\n",
    "        # comp = comp.strip(')')\n",
    "        # comp = comp.strip('(')\n",
    "        # comp=comp.replace('j','i')\n",
    "        # return comp\n",
    "        return f\"{r} + {(c)}i\"\n",
    "    def __sub__(self,anotherComp):\n",
    "        c=self.comp-anotherComp.comp\n",
    "        r=self.real-anotherComp.real\n",
    "        # # comp = str(complex(r,c))\n",
    "        # # comp = comp.strip(')')\n",
    "        # # comp = comp.strip('(')\n",
    "        # comp=comp.replace('j','i')\n",
    "        return f\"{r} - {abs(c)}i\"\n",
    "        #return comp\n",
    "    def __str__(self):\n",
    "        c=self.real\n",
    "        r=self.comp\n",
    "        # comp = str(complex(r,c))\n",
    "        # comp = comp.strip('()')\n",
    "        # comp = comp.strip('(')\n",
    "        # comp=comp.replace('j','i')\n",
    "        # return comp\n",
    "        return f\"{r} + {(c)}i\"\n",
    "\n",
    "r1 = RealNumber(3)\n",
    "r2 = RealNumber(5) \n",
    "print(r1+r2)\n",
    "cn1 = ComplexNumber(2, 1)\n",
    "print(cn1)\n",
    "cn2 = ComplexNumber(r1.number, 5) \n",
    "print(cn2)\n",
    "cn3 = cn1 + cn2 \n",
    "print(cn3)\n",
    "cn4 = cn1 - cn2 \n",
    "print(cn4) \n",
    "\n"
   ]
  },
  {
   "cell_type": "code",
   "execution_count": null,
   "id": "8d75f862",
   "metadata": {},
   "outputs": [],
   "source": []
  },
  {
   "cell_type": "code",
   "execution_count": null,
   "id": "7d1eab80",
   "metadata": {},
   "outputs": [],
   "source": []
  }
 ],
 "metadata": {
  "kernelspec": {
   "display_name": "Python 3",
   "language": "python",
   "name": "python3"
  },
  "language_info": {
   "codemirror_mode": {
    "name": "ipython",
    "version": 3
   },
   "file_extension": ".py",
   "mimetype": "text/x-python",
   "name": "python",
   "nbconvert_exporter": "python",
   "pygments_lexer": "ipython3",
   "version": "3.8.8"
  }
 },
 "nbformat": 4,
 "nbformat_minor": 5
}
