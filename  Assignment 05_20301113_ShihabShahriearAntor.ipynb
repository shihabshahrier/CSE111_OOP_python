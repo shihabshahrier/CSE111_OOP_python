{
 "cells": [
  {
   "cell_type": "markdown",
   "metadata": {},
   "source": [
    "# Course Title: Programming Language II\n",
    "\n",
    "# Course Code: CSE 111\n",
    "\n",
    "# Lab Assignment no: 5"
   ]
  },
  {
   "cell_type": "code",
   "execution_count": null,
   "metadata": {},
   "outputs": [],
   "source": []
  },
  {
   "cell_type": "markdown",
   "metadata": {},
   "source": [
    "Name: Shihab Shahriear Antor\n",
    "    \n",
    "ID: 20301113\n",
    "    \n",
    "Sec: 05\n",
    "    \n",
    "G-suit: shihab.shahriear.antor@g.bracu.ac.bd"
   ]
  },
  {
   "cell_type": "code",
   "execution_count": null,
   "metadata": {},
   "outputs": [],
   "source": []
  },
  {
   "cell_type": "code",
   "execution_count": 1,
   "metadata": {},
   "outputs": [
    {
     "name": "stdout",
     "output_type": "stream",
     "text": [
      "Quiz 1 (out of 10): 10\n",
      "Quiz 2 (out of 10): 10\n",
      "Lab (out of 30): 30\n",
      "Mid (out of 20): 20\n",
      "Final (out of 30): 30\n",
      "Total marks: 100\n"
     ]
    }
   ],
   "source": [
    "#problem 01\n",
    "\n",
    "class Marks:\n",
    "    def __init__(self, mark):\n",
    "        self.mark = mark\n",
    "        \n",
    "    def __add__(self, others):\n",
    "        return Marks(self.mark + others.mark)\n",
    "        \n",
    "\n",
    "Q1 = Marks(int(input(\"Quiz 1 (out of 10): \")))\n",
    "Q2 = Marks(int(input(\"Quiz 2 (out of 10): \")))\n",
    "Lab = Marks(int(input(\"Lab (out of 30): \")))\n",
    "Mid = Marks(int(input(\"Mid (out of 20): \")))\n",
    "Final = Marks(int(input(\"Final (out of 30): \")))\n",
    "total = Q1 + Q2 + Lab + Mid + Final\n",
    "print(\"Total marks: {}\".format(total.mark))\n"
   ]
  },
  {
   "cell_type": "code",
   "execution_count": null,
   "metadata": {},
   "outputs": [],
   "source": []
  },
  {
   "cell_type": "code",
   "execution_count": 7,
   "metadata": {},
   "outputs": [
    {
     "name": "stdout",
     "output_type": "stream",
     "text": [
      "====================================\n",
      "Name: Saad Abdullah\n",
      "Department: CSE\n",
      "====================================\n",
      "CSE 110 Programming Language I\n",
      "CSE 111 Programming Language-II\n",
      "====================================\n",
      "====================================\n",
      "Name: Mumit Khan\n",
      "Department: CSE\n",
      "====================================\n",
      "CSE 220 Data Structures\n",
      "CSE 221 Algorithms\n",
      "CCSE 230 Discrete Mathematics\n",
      "====================================\n",
      "====================================\n",
      "Name: Sadia Kazi\n",
      "Department: CSE\n",
      "====================================\n",
      "CSE 310 Object Oriented Programming\n",
      "CSE 320 Data Communications\n",
      "CSE 340 Computer Architecture\n",
      "====================================\n"
     ]
    }
   ],
   "source": [
    "#problem 02\n",
    "\n",
    "class Teacher:\n",
    "    def __init__(self, name, dep):\n",
    "        self.__name = name\n",
    "        self.__dep = dep\n",
    "        self.__cou_List = []\n",
    "    def addCourse(self, course):\n",
    "        self.__course = course\n",
    "        self.__cou_List.append(self.__course)\n",
    "        \n",
    "    def printDetail(self):\n",
    "        print(\"====================================\")\n",
    "        print(\"Name:\", self.__name)\n",
    "        print(\"Department:\", self.__dep)\n",
    "        print(\"====================================\")\n",
    "        for i in self.__cou_List:\n",
    "            print(i)\n",
    "        print(\"====================================\")\n",
    "        \n",
    "class Course:\n",
    "    \n",
    "    def __init__(self, course):\n",
    "        self.course = course\n",
    "        \n",
    "    def __str__(self):\n",
    "        return self.course\n",
    "\n",
    "\n",
    "t1 = Teacher(\"Saad Abdullah\", \"CSE\")\n",
    "t2 = Teacher(\"Mumit Khan\", \"CSE\")\n",
    "t3 = Teacher(\"Sadia Kazi\", \"CSE\")\n",
    "c1 = Course(\"CSE 110 Programming Language I\")\n",
    "c2 = Course(\"CSE 111 Programming Language-II\")\n",
    "c3 = Course(\"CSE 220 Data Structures\")\n",
    "c4 = Course(\"CSE 221 Algorithms\")\n",
    "c5 = Course(\"CCSE 230 Discrete Mathematics\")\n",
    "c6 = Course(\"CSE 310 Object Oriented Programming\")\n",
    "c7 = Course(\"CSE 320 Data Communications\")\n",
    "c8 = Course(\"CSE 340 Computer Architecture\")\n",
    "t1.addCourse(c1)\n",
    "t1.addCourse(c2)\n",
    "t2.addCourse(c3)\n",
    "t2.addCourse(c4)\n",
    "t2.addCourse(c5)\n",
    "t3.addCourse(c6)\n",
    "t3.addCourse(c7)\n",
    "t3.addCourse(c8)\n",
    "t1.printDetail()\n",
    "t2.printDetail()\n",
    "t3.printDetail()"
   ]
  },
  {
   "cell_type": "code",
   "execution_count": null,
   "metadata": {},
   "outputs": [],
   "source": []
  },
  {
   "cell_type": "code",
   "execution_count": 6,
   "metadata": {},
   "outputs": [
    {
     "name": "stdout",
     "output_type": "stream",
     "text": [
      "=====================\n",
      "Team: Bangladesh\n",
      "List of Players:\n",
      "[Mashrafi, Tamim]\n",
      "=====================\n",
      "=====================\n",
      "Team: Australia\n",
      "List of Players:\n",
      "[Ponting, Lee]\n",
      "=====================\n"
     ]
    }
   ],
   "source": [
    "#problem 03\n",
    "\n",
    "class Team:\n",
    "    \n",
    "    def __init__(self, name = ''):\n",
    "        self.__name = name\n",
    "        self.__player = []\n",
    "\n",
    "        \n",
    "    def setName(self, name): \n",
    "        self.__name = name\n",
    "        \n",
    "    def addPlayer(self, player):\n",
    "        self.__player.append(player)\n",
    "\n",
    "    \n",
    "    def printDetail(self):\n",
    "        print(\"=====================\")\n",
    "        print(\"Team:\", self.__name)\n",
    "        print(\"List of Players:\")\n",
    "        print(self.__player)\n",
    "        print(\"=====================\")\n",
    "    \n",
    "class Player:\n",
    "    def __init__(self, name):\n",
    "        self.name = name\n",
    "    def __repr__(self):\n",
    "        return self.name\n",
    "\n",
    "b = Team()\n",
    "b.setName('Bangladesh')\n",
    "mashrafi = Player(\"Mashrafi\")\n",
    "b.addPlayer(mashrafi)\n",
    "tamim = Player(\"Tamim\")\n",
    "b.addPlayer(tamim)\n",
    "b.printDetail()\n",
    "a = Team(\"Australia\")\n",
    "ponting = Player(\"Ponting\")\n",
    "a.addPlayer(ponting)\n",
    "lee = Player(\"Lee\")\n",
    "a.addPlayer(lee)\n",
    "a.printDetail()\n"
   ]
  },
  {
   "cell_type": "code",
   "execution_count": null,
   "metadata": {},
   "outputs": [],
   "source": []
  },
  {
   "cell_type": "code",
   "execution_count": 5,
   "metadata": {},
   "outputs": [
    {
     "name": "stdout",
     "output_type": "stream",
     "text": [
      "First Color: red\n",
      "Second Color: yellow\n",
      "Color formed: Orange\n"
     ]
    }
   ],
   "source": [
    "#problem 4\n",
    "class Color:\n",
    "    \n",
    "    def __init__(self, clr):\n",
    "        self.clr = clr\n",
    "        \n",
    "\n",
    "    def __add__(self, n_clr):\n",
    "        if (self.clr == \"red\" and n_clr.clr == \"yellow\") or (self.clr == \"yellow\" and n_clr.clr == \"red\"):\n",
    "            return Color(\"Orange\")\n",
    "        elif (self.clr == \"red\" and n_clr.clr == \"blue\") or (self.clr == \"blue\" and n_clr.clr == \"red\"):\n",
    "            return Color(\"Violet\")\n",
    "        elif (self.clr == \"blue\" and n_clr.clr == \"yellow\") or (self.clr == \"yellow\" and n_clr.clr == \"blue\"):\n",
    "            return Color(\"Green\")\n",
    "\n",
    "C1 = Color(input(\"First Color: \").lower())\n",
    "C2 = Color(input(\"Second Color: \").lower())\n",
    "C3 = C1 + C2\n",
    "print(\"Color formed:\", C3.clr)"
   ]
  },
  {
   "cell_type": "code",
   "execution_count": null,
   "metadata": {},
   "outputs": [],
   "source": []
  },
  {
   "cell_type": "code",
   "execution_count": 4,
   "metadata": {},
   "outputs": [
    {
     "name": "stdout",
     "output_type": "stream",
     "text": [
      "First circle radius: 4\n",
      "First circle area: 50.26548245743669\n",
      "Second circle radius: 5\n",
      "Second circle area: 78.53981633974483\n",
      "Third circle radius: 9\n",
      "Third circle area: 254.46900494077323\n"
     ]
    }
   ],
   "source": [
    "#problem 5\n",
    "\n",
    "import math as m\n",
    "\n",
    "class Circle:\n",
    "    \n",
    "    def __init__(self, rad):\n",
    "        self._rad = rad\n",
    "        \n",
    "    def getRadius(self):\n",
    "        return self._rad\n",
    "        \n",
    "    def setRadius(self, rad):\n",
    "        self._rad = rad\n",
    "        \n",
    "    def area(self):\n",
    "        return m.pi*(self._rad**2)\n",
    "    \n",
    "    def __add__(self, n_rad):\n",
    "        return Circle(self._rad + n_rad._rad)\n",
    "        \n",
    "c1 = Circle(4)\n",
    "print(\"First circle radius:\" , c1.getRadius())\n",
    "print(\"First circle area:\" ,c1.area())\n",
    "c2 = Circle(5)\n",
    "print(\"Second circle radius:\" ,c2.getRadius())\n",
    "print(\"Second circle area:\" ,c2.area())\n",
    "c3 = c1 + c2\n",
    "print(\"Third circle radius:\" ,c3.getRadius())\n",
    "print(\"Third circle area:\" ,c3.area())\n"
   ]
  },
  {
   "cell_type": "code",
   "execution_count": null,
   "metadata": {},
   "outputs": [],
   "source": []
  },
  {
   "cell_type": "code",
   "execution_count": 3,
   "metadata": {},
   "outputs": [
    {
     "name": "stdout",
     "output_type": "stream",
     "text": [
      "First Triangle Base: 10\n",
      "First Triangel Height: 5\n",
      "First Triangle area: 25.0\n",
      "First Triangle Base: 5\n",
      "First Triangel Height: 3\n",
      "First Triangle area: 7.5\n",
      "First Triangle Base: 5\n",
      "First Triangel Height: 2\n",
      "First Triangle area: 5.0\n"
     ]
    }
   ],
   "source": [
    "#problem 06\n",
    "\n",
    "class Triangle:\n",
    "    def __init__(self, base, height):\n",
    "        self.__base = base\n",
    "        self.__height = height\n",
    "\n",
    "    def getBase(self):\n",
    "        return self.__base\n",
    "\n",
    "    def getHeight(self):\n",
    "        return self.__height\n",
    "\n",
    "    def setBase(self, base):\n",
    "        self.__base = base\n",
    "\n",
    "    def setHeight(self, height):\n",
    "        self.__height = height\n",
    "\n",
    "    def area(self):\n",
    "        return 0.5 * self.__base * self.__height\n",
    "\n",
    "    def __sub__(self,other):\n",
    "        base = self.__base - other.__base\n",
    "        height = self.__height - other.__height\n",
    "        return Triangle(base,height)\n",
    "\n",
    "    def __add__(self,other):\n",
    "        base = self.__base + other.__base\n",
    "        height = self.__height + other.__height\n",
    "        return Triangle(base,height)\n",
    "\n",
    "t1 = Triangle(10,5)\n",
    "print(\"First Triangle Base:\",t1.getBase())\n",
    "print(\"First Triangel Height:\",t1.getHeight())\n",
    "print(\"First Triangle area:\",t1.area())\n",
    "\n",
    "t2 = Triangle(5,3)\n",
    "print(\"First Triangle Base:\",t2.getBase())\n",
    "print(\"First Triangel Height:\",t2.getHeight())\n",
    "print(\"First Triangle area:\",t2.area())\n",
    "\n",
    "t3 = t1 - t2\n",
    "print(\"First Triangle Base:\",t3.getBase())\n",
    "print(\"First Triangel Height:\",t3.getHeight())\n",
    "print(\"First Triangle area:\",t3.area())\n"
   ]
  },
  {
   "cell_type": "code",
   "execution_count": null,
   "metadata": {},
   "outputs": [],
   "source": []
  },
  {
   "cell_type": "code",
   "execution_count": 1,
   "metadata": {},
   "outputs": [
    {
     "name": "stdout",
     "output_type": "stream",
     "text": [
      "Doll: Tweety\n",
      "Total Price: 2500 taka\n",
      "Thank you!\n",
      "=========================\n",
      "Doll: Daffy Duck\n",
      "Total Price: 1800 taka\n",
      "Thank you!\n",
      "=========================\n",
      "Doll: Bugs Bunny\n",
      "Total Price: 3000 taka\n",
      "Congratulations! You get the Tweety as a gift!\n",
      "=========================\n",
      "Doll: Porky Pig\n",
      "Total Price: 1500 taka\n",
      "Thank you!\n",
      "=========================\n",
      "Doll: Daffy Duck Bugs Bunny\n",
      "Total Price: 4800 taka\n",
      "Congratulations! You get the Tweety as a gift!\n"
     ]
    }
   ],
   "source": [
    "#problem 07\n",
    "\n",
    "class Dolls:\n",
    "\n",
    "    def __init__(self, name, price):\n",
    "        self.name = name\n",
    "        self.price = price\n",
    "\n",
    "    def detail(self):\n",
    "        return f\"Doll: {self.name}\\nTotal Price: {self.price} taka\"\n",
    "\n",
    "    def __gt__(self, other):\n",
    "        return self.price > other.price\n",
    "\n",
    "    def __add__(self, other):\n",
    "        name = self.name + \" \" + other.name\n",
    "        price = self.price + other.price\n",
    "        obj = Dolls(name, price)\n",
    "        return obj\n",
    "\n",
    "obj_1 = Dolls(\"Tweety\", 2500)\n",
    "print(obj_1.detail())\n",
    "if obj_1 > obj_1:\n",
    "    print(\"Congratulations! You get the Tweety as a gift!\")\n",
    "else:\n",
    "    print(\"Thank you!\")\n",
    "    \n",
    "print(\"=========================\")\n",
    "obj_2 = Dolls(\"Daffy Duck\", 1800)\n",
    "print(obj_2.detail())\n",
    "if obj_2 > obj_1:\n",
    "    print(\"Congratulations! You get the Tweety as a gift!\")\n",
    "else:\n",
    "    print(\"Thank you!\")\n",
    "    \n",
    "print(\"=========================\")\n",
    "obj_3 = Dolls(\"Bugs Bunny\", 3000)\n",
    "print(obj_3.detail())\n",
    "if obj_3 > obj_1:\n",
    "    print(\"Congratulations! You get the Tweety as a gift!\")\n",
    "else:\n",
    "    print(\"Thank you!\")\n",
    "    \n",
    "print(\"=========================\")\n",
    "obj_4 = Dolls(\"Porky Pig\", 1500)\n",
    "print(obj_4.detail())\n",
    "if obj_4 > obj_1:\n",
    "    print(\"Congratulations! You get the Tweety as a gift!\")\n",
    "else:\n",
    "    print(\"Thank you!\")\n",
    "    \n",
    "print(\"=========================\")\n",
    "obj_5 = obj_2 + obj_3\n",
    "print(obj_5.detail())\n",
    "if obj_5 > obj_1:\n",
    "    print(\"Congratulations! You get the Tweety as a gift!\")\n",
    "else:\n",
    "    print(\"Thank you!\")\n"
   ]
  },
  {
   "cell_type": "code",
   "execution_count": null,
   "metadata": {},
   "outputs": [],
   "source": [
    "\n"
   ]
  },
  {
   "cell_type": "code",
   "execution_count": 2,
   "metadata": {},
   "outputs": [
    {
     "name": "stdout",
     "output_type": "stream",
     "text": [
      "0\n",
      "0\n",
      "0\n",
      "0\n",
      "(0, 0)\n",
      "(0, 0)\n",
      "The calculated coordinates are the same\n"
     ]
    }
   ],
   "source": [
    "#problem 08\n",
    "\n",
    "class Coordinates:\n",
    "\n",
    "    def __init__(self, x, y):\n",
    "        self.x = x\n",
    "        self.y = y\n",
    "\n",
    "    def __sub__(self, other):   \n",
    "        s1 = self.x - other.x\n",
    "        s2 = self.y - other.y\n",
    "        return Coordinates(s1, s2)\n",
    "\n",
    "    def __mul__(self, other):  \n",
    "        m1 = self.x * other.x\n",
    "        m2 = self.y * other.y\n",
    "        return Coordinates(m1, m2)\n",
    "\n",
    "    def __eq__(self, other):    \n",
    "        if self.x == other.x and self.y == other.y:\n",
    "            return \"The calculated coordinates are the same\"\n",
    "        else:\n",
    "            return \"The calculated coordinates are NOT the same\"\n",
    "    def detail(self):\n",
    "        return (self.x, self.y)\n",
    "\n",
    "p1 = Coordinates(int(input()),int(input()))\n",
    "p2 = Coordinates(int(input()),int(input()))\n",
    "p4 = p1 - p2\n",
    "print(p4.detail())\n",
    "p5 = p1 * p2\n",
    "print(p5.detail())\n",
    "point_check = (p4 == p5)\n",
    "print(point_check)\n",
    "\n"
   ]
  },
  {
   "cell_type": "code",
   "execution_count": null,
   "metadata": {},
   "outputs": [],
   "source": []
  },
  {
   "cell_type": "code",
   "execution_count": null,
   "metadata": {},
   "outputs": [],
   "source": []
  },
  {
   "cell_type": "code",
   "execution_count": null,
   "metadata": {},
   "outputs": [],
   "source": []
  },
  {
   "cell_type": "code",
   "execution_count": null,
   "metadata": {},
   "outputs": [],
   "source": []
  },
  {
   "cell_type": "code",
   "execution_count": null,
   "metadata": {},
   "outputs": [],
   "source": []
  }
 ],
 "metadata": {
  "kernelspec": {
   "display_name": "Python 3",
   "language": "python",
   "name": "python3"
  },
  "language_info": {
   "codemirror_mode": {
    "name": "ipython",
    "version": 3
   },
   "file_extension": ".py",
   "mimetype": "text/x-python",
   "name": "python",
   "nbconvert_exporter": "python",
   "pygments_lexer": "ipython3",
   "version": "3.8.8"
  }
 },
 "nbformat": 4,
 "nbformat_minor": 2
}
