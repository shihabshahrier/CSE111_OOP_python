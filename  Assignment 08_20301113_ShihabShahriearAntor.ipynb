{
 "cells": [
  {
   "cell_type": "markdown",
   "id": "45549383",
   "metadata": {},
   "source": [
    "# Course Title: Programming Language II\n",
    "\n",
    "# Course Code: CSE 111\n",
    "\n",
    "# Lab Assignment no: 8"
   ]
  },
  {
   "cell_type": "code",
   "execution_count": null,
   "id": "983fc05b",
   "metadata": {},
   "outputs": [],
   "source": []
  },
  {
   "cell_type": "markdown",
   "id": "f80b85fe",
   "metadata": {},
   "source": [
    "Name: Shihab Shahriear Antor\n",
    "    \n",
    "ID: 20301113\n",
    "    \n",
    "Sec: 05\n",
    "    \n",
    "G-suit: shihab.shahriear.antor@g.bracu.ac.bd"
   ]
  },
  {
   "cell_type": "code",
   "execution_count": null,
   "id": "abb98696",
   "metadata": {},
   "outputs": [],
   "source": []
  },
  {
   "cell_type": "code",
   "execution_count": 1,
   "id": "bbfbc20d",
   "metadata": {},
   "outputs": [
    {
     "name": "stdout",
     "output_type": "stream",
     "text": [
      "RealPart: 1 \n",
      "ImaginaryPart: 1\n",
      "---------\n",
      "RealPart: 5 \n",
      "ImaginaryPart: 7\n"
     ]
    }
   ],
   "source": [
    "#problem 01\n",
    "\n",
    "\n",
    "class RealNumber:\n",
    "    def __init__(self, r=0):\n",
    "        self.__realValue = r\n",
    "        \n",
    "    def getRealValue(self):\n",
    "        return self.__realValue\n",
    "    \n",
    "    def setRealValue(self, r):\n",
    "        self.__realValue = r\n",
    "        \n",
    "    def __str__(self):\n",
    "        return 'RealPart: '+str(self.getRealValue())\n",
    "    \n",
    "class ComplexNumber(RealNumber):\n",
    "    def __init__(self, real = 1, img = 1):\n",
    "        super().__init__()\n",
    "        self.setRealValue(real)\n",
    "        self.img = img\n",
    "    def __str__(self):\n",
    "        return f'RealPart: {str(self.getRealValue())} \\nImaginaryPart: {str(self.img)}'\n",
    "        \n",
    "    \n",
    "\n",
    "cn1 = ComplexNumber()\n",
    "print(cn1)\n",
    "print('---------')\n",
    "cn2 = ComplexNumber(5,7)\n",
    "print(cn2)"
   ]
  },
  {
   "cell_type": "code",
   "execution_count": null,
   "id": "a31260cb",
   "metadata": {},
   "outputs": [],
   "source": []
  },
  {
   "cell_type": "code",
   "execution_count": null,
   "id": "1b0859dc",
   "metadata": {},
   "outputs": [],
   "source": [
    "#problem 02\n",
    "\n"
   ]
  },
  {
   "cell_type": "code",
   "execution_count": null,
   "id": "8d75f862",
   "metadata": {},
   "outputs": [],
   "source": []
  },
  {
   "cell_type": "code",
   "execution_count": null,
   "id": "7d1eab80",
   "metadata": {},
   "outputs": [],
   "source": []
  }
 ],
 "metadata": {
  "kernelspec": {
   "display_name": "Python 3",
   "language": "python",
   "name": "python3"
  },
  "language_info": {
   "codemirror_mode": {
    "name": "ipython",
    "version": 3
   },
   "file_extension": ".py",
   "mimetype": "text/x-python",
   "name": "python",
   "nbconvert_exporter": "python",
   "pygments_lexer": "ipython3",
   "version": "3.8.8"
  }
 },
 "nbformat": 4,
 "nbformat_minor": 5
}
