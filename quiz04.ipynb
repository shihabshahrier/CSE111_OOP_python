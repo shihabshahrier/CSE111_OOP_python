{
 "cells": [
  {
   "cell_type": "markdown",
   "metadata": {},
   "source": [
    "# 𝐂𝐒𝐄𝟏𝟏𝟏: 𝐏𝐫𝐨𝐠𝐫𝐚𝐦𝐦𝐢𝐧𝐠 𝐋𝐚𝐧𝐠𝐮𝐚𝐠𝐞 𝐈𝐈\n",
    "\n",
    "# Quiz: 4"
   ]
  },
  {
   "cell_type": "markdown",
   "metadata": {},
   "source": [
    "Name: Shihab Shahriear Antor\n",
    "    \n",
    "ID: 20301113\n",
    "    \n",
    "Sec: 05\n",
    "    \n",
    "G-suit: shihab.shahriear.antor@g.bracu.ac.bd"
   ]
  },
  {
   "cell_type": "code",
   "execution_count": 1,
   "metadata": {},
   "outputs": [
    {
     "name": "stdout",
     "output_type": "stream",
     "text": [
      "Full time employees in Finance have to work 40 hours\n",
      "=================================\n",
      "=================================\n",
      "Department: Finance, Work hours: 40\n",
      "Total Employee(s): 3.0\n",
      "Employee details:\n"
     ]
    },
    {
     "ename": "TypeError",
     "evalue": "unsupported operand type(s) for -: 'int' and 'str'",
     "output_type": "error",
     "traceback": [
      "\u001b[0;31m---------------------------------------------------------------------------\u001b[0m",
      "\u001b[0;31mTypeError\u001b[0m                                 Traceback (most recent call last)",
      "\u001b[0;32m<ipython-input-1-b0c39da872da>\u001b[0m in \u001b[0;36m<module>\u001b[0;34m\u001b[0m\n\u001b[1;32m     63\u001b[0m \u001b[0mp1\u001b[0m\u001b[0;34m.\u001b[0m\u001b[0maddFullTimeEmployee\u001b[0m\u001b[0;34m(\u001b[0m\u001b[0;34m\"Bob\"\u001b[0m\u001b[0;34m,\u001b[0m \u001b[0;36m12\u001b[0m\u001b[0;34m,\u001b[0m  \u001b[0;34m\"Carol\"\u001b[0m\u001b[0;34m,\u001b[0m \u001b[0;36m18\u001b[0m\u001b[0;34m,\u001b[0m \u001b[0;34m\"Mike\"\u001b[0m\u001b[0;34m,\u001b[0m \u001b[0;36m15\u001b[0m\u001b[0;34m)\u001b[0m\u001b[0;34m\u001b[0m\u001b[0;34m\u001b[0m\u001b[0m\n\u001b[1;32m     64\u001b[0m \u001b[0mprint\u001b[0m\u001b[0;34m(\u001b[0m\u001b[0;34m\"=================================\"\u001b[0m\u001b[0;34m)\u001b[0m\u001b[0;34m\u001b[0m\u001b[0;34m\u001b[0m\u001b[0m\n\u001b[0;32m---> 65\u001b[0;31m \u001b[0mprint\u001b[0m\u001b[0;34m(\u001b[0m\u001b[0mp1\u001b[0m\u001b[0;34m)\u001b[0m\u001b[0;34m\u001b[0m\u001b[0;34m\u001b[0m\u001b[0m\n\u001b[0m\u001b[1;32m     66\u001b[0m \u001b[0mprint\u001b[0m\u001b[0;34m(\u001b[0m\u001b[0;34m\"=================================\"\u001b[0m\u001b[0;34m)\u001b[0m\u001b[0;34m\u001b[0m\u001b[0;34m\u001b[0m\u001b[0m\n\u001b[1;32m     67\u001b[0m \u001b[0mp2\u001b[0m \u001b[0;34m=\u001b[0m \u001b[0mPartTimeEmployee\u001b[0m\u001b[0;34m(\u001b[0m\u001b[0;34m\"Others\"\u001b[0m\u001b[0;34m,\u001b[0m \u001b[0;36m25\u001b[0m\u001b[0;34m)\u001b[0m\u001b[0;34m\u001b[0m\u001b[0;34m\u001b[0m\u001b[0m\n",
      "\u001b[0;32m<ipython-input-1-b0c39da872da>\u001b[0m in \u001b[0;36m__str__\u001b[0;34m(self)\u001b[0m\n\u001b[1;32m     29\u001b[0m         \u001b[0;32mfor\u001b[0m \u001b[0mi\u001b[0m \u001b[0;32min\u001b[0m \u001b[0mrange\u001b[0m\u001b[0;34m(\u001b[0m\u001b[0mlen\u001b[0m\u001b[0;34m(\u001b[0m\u001b[0mself\u001b[0m\u001b[0;34m.\u001b[0m\u001b[0minfo\u001b[0m\u001b[0;34m)\u001b[0m\u001b[0;34m)\u001b[0m\u001b[0;34m:\u001b[0m\u001b[0;34m\u001b[0m\u001b[0;34m\u001b[0m\u001b[0m\n\u001b[1;32m     30\u001b[0m             \u001b[0;32mif\u001b[0m \u001b[0mi\u001b[0m\u001b[0;34m%\u001b[0m\u001b[0;36m2\u001b[0m \u001b[0;34m==\u001b[0m \u001b[0;36m0\u001b[0m\u001b[0;34m:\u001b[0m\u001b[0;34m\u001b[0m\u001b[0;34m\u001b[0m\u001b[0m\n\u001b[0;32m---> 31\u001b[0;31m                 \u001b[0mprint\u001b[0m\u001b[0;34m(\u001b[0m\u001b[0;34m\"Work hours remaining: 28\"\u001b[0m\u001b[0;34m,\u001b[0m \u001b[0mstr\u001b[0m\u001b[0;34m(\u001b[0m\u001b[0;36m40\u001b[0m\u001b[0;34m-\u001b[0m\u001b[0mself\u001b[0m\u001b[0;34m.\u001b[0m\u001b[0minfo\u001b[0m\u001b[0;34m[\u001b[0m\u001b[0mi\u001b[0m\u001b[0;34m]\u001b[0m\u001b[0;34m)\u001b[0m\u001b[0;34m)\u001b[0m\u001b[0;34m\u001b[0m\u001b[0;34m\u001b[0m\u001b[0m\n\u001b[0m\u001b[1;32m     32\u001b[0m                 \u001b[0mprint\u001b[0m\u001b[0;34m(\u001b[0m\u001b[0;34m)\u001b[0m\u001b[0;34m\u001b[0m\u001b[0;34m\u001b[0m\u001b[0m\n\u001b[1;32m     33\u001b[0m             \u001b[0;32melse\u001b[0m\u001b[0;34m:\u001b[0m\u001b[0;34m\u001b[0m\u001b[0;34m\u001b[0m\u001b[0m\n",
      "\u001b[0;31mTypeError\u001b[0m: unsupported operand type(s) for -: 'int' and 'str'"
     ]
    }
   ],
   "source": [
    "\n",
    "\n",
    "#problem 01\n",
    "\n",
    "class Employee:\n",
    "     total_employee = 0\n",
    "\n",
    "     def __init__(self, name, work_hour):\n",
    "         self.name = name\n",
    "         self.work_hour = work_hour\n",
    "\n",
    "     def __str__(self):\n",
    "         s =  \"Department: \"+self.name+\", Work hours: \"+str(self.work_hour)\n",
    "         return s\n",
    "\n",
    "# Write your codes here.\n",
    "class FullTimeEmployee(Employee):\n",
    "    def __init__(self, name, hour):\n",
    "        super().__init__(name, hour)\n",
    "        print(\"Full time employees in Finance have to work 40 hours\")\n",
    "    def addFullTimeEmployee(self, *info):\n",
    "        self.info = info\n",
    "        Employee.total_employee += len(self.info)/2\n",
    "        \n",
    "    def __str__(self):\n",
    "        print(f\"Department: {self.name}, Work hours: {self.work_hour}\")\n",
    "        print(\"Total Employee(s):\", str(len(self.info)/2))\n",
    "        print(\"Employee details:\")\n",
    "        for i in range(len(self.info)):\n",
    "            if i%2 == 0:\n",
    "                print(\"Work hours remaining: 28\", str(40-self.info[i]))\n",
    "                print()\n",
    "            else:\n",
    "                print(f\"Name:{self.info[i]}\", end= \",\")\n",
    "        \n",
    "        \n",
    "        \n",
    "    \n",
    "class PartTimeEmployee(Employee):\n",
    "    def __init__(self, name, hour):\n",
    "        super().__init__(name, hour)\n",
    "        print(\"Part time employees of Other Section have to work 25 hours.\")\n",
    "    def addPartTimeEmployee(self, *info):\n",
    "        self.info = info\n",
    "        Employee.total_employee += len(self.info)/2\n",
    "        \n",
    "    def __str__(self):\n",
    "        print(f\"Department: {self.name}, Work hours: {self.work_hour}\")\n",
    "        print(\"Total Employee(s):\", str(len(self.info)/2))\n",
    "        print(\"Employee details:\")\n",
    "        for i in range(len(self.info)):\n",
    "            if i%2 == 0:\n",
    "                print(\"Work hours remaining: 28\", str(25-self.info[i]))\n",
    "                print()\n",
    "            else:\n",
    "                print(f\"Name:{self.info[i]}\", end= \",\")\n",
    "\n",
    "\n",
    "\n",
    "# Do not change the following lines of code.\n",
    "p1 = FullTimeEmployee(\"Finance\", 40 )\n",
    "print(\"=================================\")\n",
    "p1.addFullTimeEmployee(\"Bob\", 12,  \"Carol\", 18, \"Mike\", 15)\n",
    "print(\"=================================\")\n",
    "print(p1)\n",
    "print(\"=================================\")\n",
    "p2 = PartTimeEmployee(\"Others\", 25)\n",
    "print(\"=================================\")\n",
    "p2.addPartTimeEmployee(\"David\", 12, \"Simon\", 18)\n",
    "print(\"=================================\")\n",
    "print(p2)\n",
    "print(\"=================================\")\n",
    "print(\"Total Employee \", Employee.total_employee)   "
   ]
  },
  {
   "cell_type": "code",
   "execution_count": null,
   "metadata": {},
   "outputs": [],
   "source": []
  },
  {
   "cell_type": "code",
   "execution_count": null,
   "metadata": {},
   "outputs": [],
   "source": []
  },
  {
   "cell_type": "code",
   "execution_count": null,
   "metadata": {},
   "outputs": [],
   "source": []
  },
  {
   "cell_type": "code",
   "execution_count": null,
   "metadata": {},
   "outputs": [],
   "source": []
  },
  {
   "cell_type": "code",
   "execution_count": null,
   "metadata": {},
   "outputs": [],
   "source": []
  }
 ],
 "metadata": {
  "kernelspec": {
   "display_name": "Python 3",
   "language": "python",
   "name": "python3"
  },
  "language_info": {
   "codemirror_mode": {
    "name": "ipython",
    "version": 3
   },
   "file_extension": ".py",
   "mimetype": "text/x-python",
   "name": "python",
   "nbconvert_exporter": "python",
   "pygments_lexer": "ipython3",
   "version": "3.7.3"
  }
 },
 "nbformat": 4,
 "nbformat_minor": 2
}
