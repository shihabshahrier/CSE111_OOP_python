{
 "cells": [
  {
   "cell_type": "markdown",
   "metadata": {},
   "source": []
  },
  {
   "cell_type": "markdown",
   "metadata": {},
   "source": [
    "# 𝐂𝐒𝐄𝟏𝟏𝟏: 𝐏𝐫𝐨𝐠𝐫𝐚𝐦𝐦𝐢𝐧𝐠 𝐋𝐚𝐧𝐠𝐮𝐚𝐠𝐞 𝐈𝐈\n",
    "\n",
    "# Quiz: 2"
   ]
  },
  {
   "cell_type": "markdown",
   "metadata": {},
   "source": []
  },
  {
   "cell_type": "markdown",
   "metadata": {},
   "source": [
    "Name: Shihab Shahriear Antor\n",
    "    \n",
    "ID: 20301113\n",
    "    \n",
    "Sec: 05\n",
    "    \n",
    "G-suit: shihab.shahriear.antor@g.bracu.ac.bd"
   ]
  },
  {
   "cell_type": "code",
   "execution_count": null,
   "metadata": {},
   "outputs": [],
   "source": []
  },
  {
   "cell_type": "code",
   "execution_count": null,
   "metadata": {},
   "outputs": [],
   "source": []
  },
  {
   "cell_type": "code",
   "execution_count": 1,
   "metadata": {},
   "outputs": [
    {
     "name": "stdout",
     "output_type": "stream",
     "text": [
      "=================================\n",
      "Please add a director name first\n",
      "=================================\n",
      "Number of Movie(s):  1\n",
      "Director Name: Joel Coen\n",
      "Comedy-Crime:Raising Arizona.\n",
      "=================================\n",
      "Number of Movie(s):  3\n",
      "Director Name: Joel Coen\n",
      "Western-Drama:Raising Arizona, The Big Lebowski, True Grit.\n",
      "=================================\n",
      "Number of Movie(s):  2\n",
      "Director Name: Marc Forster\n",
      "Action:Machine Gun Preacher, Quantum of Solace.\n",
      "=================================\n"
     ]
    }
   ],
   "source": [
    "class Director:\n",
    "    \n",
    "    def __init__(self, name =None):\n",
    "        self.name = name\n",
    "        self.num = 0\n",
    "        self.x = ''\n",
    "    def add_movie(self, b, bt, n):\n",
    "        \n",
    "        if self.name == None:\n",
    "            print(\"Please add a director name first\")\n",
    "        else:\n",
    "            self.bt = bt\n",
    "            self.b = b\n",
    "            self.n = n\n",
    "            self.num = self.num + 1\n",
    "            self.x = self.x + self.b + ','\n",
    "    def set_director_name(self, nam):\n",
    "        self.name = nam   \n",
    "    def print_details(self):\n",
    "        self.y = self.x.split(',')\n",
    "        print(\"Number of Movie(s): \", self.num)\n",
    "        print(\"Director Name:\", self.name)\n",
    "        print(f\"{self.bt}:\", end = '')\n",
    "        for i in range(len(self.y)-1):\n",
    "            if i == len(self.y)-2:\n",
    "                print(self.y[i], end = '.')\n",
    "            else:\n",
    "                print(self.y[i], end = ', ')\n",
    "        print('')\n",
    "\n",
    "# Do not change the following lines of code.\n",
    "a1 = Director()\n",
    "print(\"=================================\")\n",
    "a1.add_movie('Raising Arizona', 'Comedy-Crime', 29.2)\n",
    "print(\"=================================\")\n",
    "a1.set_director_name('Joel Coen')\n",
    "a1.add_movie('Raising Arizona', 'Comedy-Crime', 29.2)\n",
    "a1.print_details()\n",
    "print(\"=================================\")\n",
    "a1.add_movie('The Big Lebowski', 'Comedy-Crime', 46.7)\n",
    "a1.add_movie('True Grit', 'Western-Drama', 252.2)\n",
    "a1.print_details()\n",
    "print(\"=================================\")\n",
    "a2 = Director('Marc Forster')\n",
    "a2.add_movie('Machine Gun Preacher', 'Action', 3.3)\n",
    "a2.add_movie('Quantum of Solace', 'Action', 589.6)\n",
    "a2.print_details()\n",
    "print(\"=================================\")\n"
   ]
  },
  {
   "cell_type": "code",
   "execution_count": null,
   "metadata": {},
   "outputs": [],
   "source": []
  }
 ],
 "metadata": {
  "kernelspec": {
   "display_name": "Python 3",
   "language": "python",
   "name": "python3"
  },
  "language_info": {
   "codemirror_mode": {
    "name": "ipython",
    "version": 3
   },
   "file_extension": ".py",
   "mimetype": "text/x-python",
   "name": "python",
   "nbconvert_exporter": "python",
   "pygments_lexer": "ipython3",
   "version": "3.7.3"
  }
 },
 "nbformat": 4,
 "nbformat_minor": 2
}
